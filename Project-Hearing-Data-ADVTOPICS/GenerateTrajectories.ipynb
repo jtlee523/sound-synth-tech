{
 "cells": [
  {
   "cell_type": "markdown",
   "id": "5958b1ac-663b-47f6-9152-00bb28e30598",
   "metadata": {},
   "source": [
    "# Hearing Data"
   ]
  },
  {
   "cell_type": "code",
   "execution_count": 2,
   "id": "7814a80c-e86a-47ce-97a4-580f017e0346",
   "metadata": {},
   "outputs": [
    {
     "name": "stdout",
     "output_type": "stream",
     "text": [
      "Imported Necessary Files\n"
     ]
    }
   ],
   "source": [
    "using Plots\n",
    "using LinearAlgebra\n",
    "using Random\n",
    "using DelimitedFiles\n",
    "\n",
    "using MIDI\n",
    "using MusicManipulations\n",
    "using MotifSequenceGenerator\n",
    "\n",
    "println(\"Imported Necessary Packages\")"
   ]
  },
  {
   "cell_type": "markdown",
   "id": "0782600b-cf3f-43e4-a0b5-abf74ec551a0",
   "metadata": {},
   "source": [
    "## Generating txt files of individual trajectories"
   ]
  },
  {
   "cell_type": "code",
   "execution_count": 59,
   "id": "c868ad2a-a639-4ece-98c9-beeeb6e855b8",
   "metadata": {},
   "outputs": [
    {
     "data": {
      "text/plain": [
       "GenerateTrajectories_OnePath (generic function with 1 method)"
      ]
     },
     "execution_count": 59,
     "metadata": {},
     "output_type": "execute_result"
    }
   ],
   "source": [
    "function GenerateTrajectories_OnePath(N::Int64, JumpRates, tSteps::Int64, nTraj::Int64)\n",
    "    \"\"\"\n",
    "    Generates trajectories data. In this code, there is only one path available. That is we start in state [0] and jump as:\n",
    "        [0] -> [1] -> [2] -> ... -> [N]\n",
    "    \n",
    "    At each time, the atoms either jump or dont. \n",
    "    \n",
    "    Note that the time step and number of steps is merely for this code. When we render the data into sound, we will take some creative liberties.\n",
    "    \n",
    "    @Params N: number of steps\n",
    "    @Params JumpRates: Array of all the rates indexed by the state we are going to. This is a size N+1 array with entries in range (0,1), \n",
    "        but the last entry should be -1 to prevent further jumps past the last step.\n",
    "    @Params tSteps: number of time steps\n",
    "    @Params nTraj: number of trajectories\n",
    "    \"\"\"\n",
    "    \n",
    "    allTrajData = zeros(tSteps, nTraj) # one row for every time step. Number of columns is number of trajectories\n",
    "    # we can get the jth column by taking allTrajData[:, j]\n",
    "    \n",
    "    for i in 1:nTraj # iterating through all of the trajectories\n",
    "        states = zeros(tSteps) # this is where the current state will be stored.\n",
    "        step = 1 # counds the number of steps\n",
    "        currentState = 0 # number index of the states.\n",
    "        JumpRate = JumpRates[currentState + 1] # Julia arrays are 1 indexed so we add 1 here.\n",
    "        \n",
    "        while step <= tSteps \n",
    "            #print(\"current step is: \"); println(step)\n",
    "            r = rand(Float64) # random number that dictates whether we jump or not\n",
    "            if r <= JumpRate # if we jump\n",
    "                #println(\"Jumped!\")\n",
    "                \n",
    "                currentState = currentState + 1 # incrementing the state by 1\n",
    "                JumpRate = JumpRates[currentState+1] # updating the jump rate\n",
    "            end\n",
    "            \n",
    "            states[step] = currentState # saving the input for that array as the current state\n",
    "            step = step + 1 # increment the step\n",
    "        end\n",
    "        #print(\"Current trajectory number is: \"); println(i); println(states); print()\n",
    "        allTrajData[:,i] = states # saves the column as the states for that run\n",
    "        \n",
    "    end\n",
    "    #println(); println(allTrajData)\n",
    "    \n",
    "    ########\n",
    "    # Writing into a file\n",
    "    \n",
    "    filePath = \"RunsData/\"*string(N)*\"states-Trajectories\"*string(nTraj)* \".txt\"\n",
    "    open(filePath, \"w\") do io\n",
    "        writedlm(io, [allTrajData[j,:] for j in 1:tSteps], ',') # allTrajData[j,: ] is the jth row\n",
    "    end\n",
    "    # Once you read the data\n",
    "    # data = readdlm(\"filename.txt\", ',', Float64)\n",
    "    # data[:,col_ind] gives you the columns\n",
    "    ########\n",
    "    return allTrajData\n",
    "end"
   ]
  },
  {
   "cell_type": "code",
   "execution_count": 61,
   "id": "8c17d10b-dc1a-4ede-9c74-df9b7a300b01",
   "metadata": {},
   "outputs": [
    {
     "data": {
      "text/plain": [
       "100×20 Matrix{Float64}:\n",
       " 0.0  0.0  0.0  1.0  0.0  1.0  1.0  1.0  …  0.0  0.0  1.0  0.0  1.0  1.0  1.0\n",
       " 0.0  0.0  0.0  2.0  0.0  1.0  1.0  2.0     0.0  1.0  2.0  1.0  2.0  1.0  2.0\n",
       " 0.0  1.0  1.0  3.0  0.0  2.0  2.0  3.0     0.0  1.0  3.0  2.0  3.0  1.0  3.0\n",
       " 1.0  2.0  2.0  3.0  0.0  3.0  3.0  3.0     1.0  2.0  4.0  3.0  3.0  2.0  3.0\n",
       " 2.0  3.0  3.0  3.0  0.0  3.0  4.0  4.0     2.0  3.0  4.0  3.0  3.0  3.0  3.0\n",
       " 3.0  4.0  4.0  3.0  1.0  4.0  4.0  4.0  …  3.0  3.0  4.0  3.0  3.0  4.0  4.0\n",
       " 3.0  4.0  4.0  4.0  2.0  4.0  4.0  4.0     4.0  4.0  4.0  3.0  3.0  4.0  4.0\n",
       " 4.0  4.0  5.0  4.0  3.0  4.0  4.0  4.0     4.0  4.0  4.0  3.0  4.0  4.0  4.0\n",
       " 4.0  4.0  5.0  4.0  3.0  4.0  4.0  4.0     4.0  4.0  4.0  3.0  4.0  4.0  4.0\n",
       " 4.0  4.0  5.0  4.0  3.0  4.0  5.0  4.0     4.0  4.0  4.0  4.0  4.0  5.0  5.0\n",
       " 4.0  4.0  5.0  5.0  3.0  4.0  5.0  4.0  …  4.0  5.0  4.0  4.0  4.0  5.0  5.0\n",
       " 4.0  5.0  5.0  5.0  3.0  4.0  5.0  4.0     4.0  5.0  4.0  4.0  4.0  5.0  5.0\n",
       " 4.0  5.0  5.0  5.0  3.0  4.0  5.0  4.0     4.0  5.0  4.0  4.0  4.0  5.0  5.0\n",
       " ⋮                        ⋮              ⋱            ⋮                   \n",
       " 5.0  5.0  5.0  5.0  5.0  5.0  5.0  5.0     5.0  5.0  5.0  5.0  5.0  5.0  5.0\n",
       " 5.0  5.0  5.0  5.0  5.0  5.0  5.0  5.0     5.0  5.0  5.0  5.0  5.0  5.0  5.0\n",
       " 5.0  5.0  5.0  5.0  5.0  5.0  5.0  5.0  …  5.0  5.0  5.0  5.0  5.0  5.0  5.0\n",
       " 5.0  5.0  5.0  5.0  5.0  5.0  5.0  5.0     5.0  5.0  5.0  5.0  5.0  5.0  5.0\n",
       " 5.0  5.0  5.0  5.0  5.0  5.0  5.0  5.0     5.0  5.0  5.0  5.0  5.0  5.0  5.0\n",
       " 5.0  5.0  5.0  5.0  5.0  5.0  5.0  5.0     5.0  5.0  5.0  5.0  5.0  5.0  5.0\n",
       " 5.0  5.0  5.0  5.0  5.0  5.0  5.0  5.0     5.0  5.0  5.0  5.0  5.0  5.0  5.0\n",
       " 5.0  5.0  5.0  5.0  5.0  5.0  5.0  5.0  …  5.0  5.0  5.0  5.0  5.0  5.0  5.0\n",
       " 5.0  5.0  5.0  5.0  5.0  5.0  5.0  5.0     5.0  5.0  5.0  5.0  5.0  5.0  5.0\n",
       " 5.0  5.0  5.0  5.0  5.0  5.0  5.0  5.0     5.0  5.0  5.0  5.0  5.0  5.0  5.0\n",
       " 5.0  5.0  5.0  5.0  5.0  5.0  5.0  5.0     5.0  5.0  5.0  5.0  5.0  5.0  5.0\n",
       " 5.0  5.0  5.0  5.0  5.0  5.0  5.0  5.0     5.0  5.0  5.0  5.0  5.0  5.0  5.0"
      ]
     },
     "execution_count": 61,
     "metadata": {},
     "output_type": "execute_result"
    }
   ],
   "source": [
    "# Generating the Trajectories\n",
    "\n",
    "N=5\n",
    "JR = zeros(N+1)\n",
    "JR[1] = 0.5\n",
    "JR[2] = 0.75\n",
    "JR[3] = 0.99\n",
    "JR[4] = 0.4\n",
    "JR[5] = 0.1\n",
    "JR[6] = -1.0\n",
    "tS = 100\n",
    "nT = 20\n",
    "x=GenerateTrajectories_OnePath(N, JR, tS, nT)\n",
    "x"
   ]
  },
  {
   "cell_type": "markdown",
   "id": "1ec49345-a28e-43c4-b203-9618f990f438",
   "metadata": {},
   "source": [
    "## MIDI Creation \n",
    "\n",
    "This link shows the MIDI notes: https://www.inspiredacoustics.com/en/MIDI_note_numbers_and_center_frequencies\n",
    "\n",
    "The documentation has an example: https://juliamusic.github.io/JuliaMusic_documentation.jl/latest/midi/notes/"
   ]
  },
  {
   "cell_type": "code",
   "execution_count": null,
   "id": "ca735d2b-2e89-48d7-b2be-4f50a5e0d2cf",
   "metadata": {},
   "outputs": [],
   "source": [
    "function CreateMidiDiatonic_C(Data, TimeScale = 960 * 12)\n",
    "    \"\"\"\n",
    "    Processes the trajectories data to create a midi file. I will make multiple versions of this\n",
    "    This version is diatonically tuned to C. \n",
    "    \n",
    "    \n",
    "    @Params Data\n",
    "    @Params Timescale: Length of file in ticks. 960 * 12 is 12 quarter notes\n",
    "    \"\"\"\n",
    "    SoundFile = MIDIFile() # Midi file with tpq (ticks per quarter note) = 960\n",
    "    notes = Notes() \n",
    "    \n",
    "    # One track per note in C major\n",
    "    trackC = MIDITrack(); trackD = MIDITrack(); trackE = MIDITrack(); trackF = MIDITrack()\n",
    "    trackG = MIDITrack(); trackA = MIDITrack(); trackB = MIDITrack(); trackHighC = MIDITrack()\n",
    "    \n",
    "    \n",
    "end"
   ]
  },
  {
   "cell_type": "code",
   "execution_count": 11,
   "id": "326c3799-36de-4b2d-8be0-c4dc193d5eaf",
   "metadata": {},
   "outputs": [
    {
     "data": {
      "text/plain": [
       "MIDIFile (format=1, tpq=960) with tracks:\n",
       " Track 1\n"
      ]
     },
     "execution_count": 11,
     "metadata": {},
     "output_type": "execute_result"
    }
   ],
   "source": [
    "SoundFile = MIDIFile()  # tpq: ticks per quarter note, is default to 960. I can't seem to edit this.\n",
    "track1 = MIDITrack()\n",
    "notes = Notes() # vector of notes\n",
    "\n",
    "# n = Note(pitch, velociy, position, duration) is how a note is created\n",
    "# n.position gives the position. Position is given in ticks\n",
    "# duration is also given in ticks \n",
    "\n",
    "C = Note(60, 96, 0, 192)\n",
    "D = Note(62, 96, 180, 192)\n",
    "push!(notes, C)\n",
    "push!(notes, D)\n",
    "addnotes!(track1, notes)\n",
    "addtrackname!(track1, \"Track 1\")\n",
    "push!(SoundFile.tracks, track1)\n",
    "writeMIDIFile(\"test.mid\", SoundFile)"
   ]
  },
  {
   "cell_type": "code",
   "execution_count": null,
   "id": "d8c301f8-3ed8-4be2-b471-3a16bfdfeb94",
   "metadata": {},
   "outputs": [],
   "source": []
  },
  {
   "cell_type": "code",
   "execution_count": 1,
   "id": "8a4dcb63-9836-4b71-9409-a598d3b0b845",
   "metadata": {},
   "outputs": [
    {
     "data": {
      "text/plain": [
       "0.9921875"
      ]
     },
     "execution_count": 1,
     "metadata": {},
     "output_type": "execute_result"
    }
   ],
   "source": [
    "0.5 + 0.5^2 + 0.5^3 + 0.5^4 + 0.5^5 + 0.5^6 + 0.5^7"
   ]
  },
  {
   "cell_type": "code",
   "execution_count": null,
   "id": "49df750a-8830-49f3-811d-4462a164b36b",
   "metadata": {},
   "outputs": [],
   "source": [
    "\n"
   ]
  }
 ],
 "metadata": {
  "kernelspec": {
   "display_name": "Julia 1.6.2",
   "language": "julia",
   "name": "julia-1.6"
  },
  "language_info": {
   "file_extension": ".jl",
   "mimetype": "application/julia",
   "name": "julia",
   "version": "1.6.2"
  }
 },
 "nbformat": 4,
 "nbformat_minor": 5
}
